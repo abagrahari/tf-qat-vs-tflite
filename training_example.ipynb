{
 "cells": [
  {
   "cell_type": "markdown",
   "metadata": {
    "id": "Tce3stUlHN0L"
   },
   "source": [
    "##### Copyright 2020 The TensorFlow Authors."
   ]
  },
  {
   "cell_type": "code",
   "execution_count": 1,
   "metadata": {
    "cellView": "form",
    "execution": {
     "iopub.execute_input": "2020-09-12T11:12:59.967915Z",
     "iopub.status.busy": "2020-09-12T11:12:59.967184Z",
     "iopub.status.idle": "2020-09-12T11:12:59.969263Z",
     "shell.execute_reply": "2020-09-12T11:12:59.969701Z"
    },
    "id": "tuOe1ymfHZPu"
   },
   "outputs": [],
   "source": [
    "#@title Licensed under the Apache License, Version 2.0 (the \"License\");\n",
    "# you may not use this file except in compliance with the License.\n",
    "# You may obtain a copy of the License at\n",
    "#\n",
    "# https://www.apache.org/licenses/LICENSE-2.0\n",
    "#\n",
    "# Unless required by applicable law or agreed to in writing, software\n",
    "# distributed under the License is distributed on an \"AS IS\" BASIS,\n",
    "# WITHOUT WARRANTIES OR CONDITIONS OF ANY KIND, either express or implied.\n",
    "# See the License for the specific language governing permissions and\n",
    "# limitations under the License."
   ]
  },
  {
   "cell_type": "markdown",
   "metadata": {
    "id": "qFdPvlXBOdUN"
   },
   "source": [
    "# Quantization aware training in Keras example"
   ]
  },
  {
   "cell_type": "markdown",
   "metadata": {
    "id": "MfBg1C5NB3X0"
   },
   "source": [
    "<table class=\"tfo-notebook-buttons\" align=\"left\">\n",
    "  <td>\n",
    "    <a target=\"_blank\" href=\"https://www.tensorflow.org/model_optimization/guide/quantization/training_example\"><img src=\"https://www.tensorflow.org/images/tf_logo_32px.png\" />View on TensorFlow.org</a>\n",
    "  </td>\n",
    "  <td>\n",
    "    <a target=\"_blank\" href=\"https://colab.research.google.com/github/tensorflow/model-optimization/blob/master/tensorflow_model_optimization/g3doc/guide/quantization/training_example.ipynb\"><img src=\"https://www.tensorflow.org/images/colab_logo_32px.png\" />Run in Google Colab</a>\n",
    "  </td>\n",
    "  <td>\n",
    "    <a target=\"_blank\" href=\"https://github.com/tensorflow/model-optimization/blob/master/tensorflow_model_optimization/g3doc/guide/quantization/training_example.ipynb\"><img src=\"https://www.tensorflow.org/images/GitHub-Mark-32px.png\" />View source on GitHub</a>\n",
    "  </td>\n",
    "  <td>\n",
    "    <a href=\"https://storage.googleapis.com/tensorflow_docs/model-optimization/tensorflow_model_optimization/g3doc/guide/quantization/training_example.ipynb\"><img src=\"https://www.tensorflow.org/images/download_logo_32px.png\" />Download notebook</a>\n",
    "  </td>\n",
    "</table>"
   ]
  },
  {
   "cell_type": "markdown",
   "metadata": {
    "id": "Bjmi3qZeu_xk"
   },
   "source": [
    "## Overview\n",
    "\n",
    "Welcome to an end-to-end example for *quantization aware training*.\n",
    "\n",
    "### Other pages\n",
    "For an introduction to what quantization aware training is and to determine if you should use it (including what's supported), see the [overview page](https://www.tensorflow.org/model_optimization/guide/quantization/training.md).\n",
    "\n",
    "To quickly find the APIs you need for your use case (beyond fully-quantizing a model with 8-bits), see the\n",
    "[comprehensive guide](https://www.tensorflow.org/model_optimization/guide/quantization/training_comprehensive_guide.md).\n",
    "\n",
    "### Summary\n",
    "\n",
    "In this tutorial, you will:\n",
    "\n",
    "1.   Train a `tf.keras` model for MNIST from scratch.\n",
    "2.   Fine tune the model by applying the quantization aware training API, see the accuracy, and\n",
    "     export a quantization aware model.\n",
    "3.   Use the model to create an actually quantized model for the TFLite\n",
    "     backend.\n",
    "4.   See the persistence of accuracy in\n",
    "     TFLite and a 4x smaller model. To see the latency benefits on mobile, try out the TFLite examples [in the TFLite app repository](https://www.tensorflow.org/lite/models)."
   ]
  },
  {
   "cell_type": "markdown",
   "metadata": {
    "id": "yEAZYXvZU_XG"
   },
   "source": [
    "## Setup"
   ]
  },
  {
   "cell_type": "code",
   "execution_count": 2,
   "metadata": {
    "execution": {
     "iopub.execute_input": "2020-09-12T11:12:59.975980Z",
     "iopub.status.busy": "2020-09-12T11:12:59.975294Z",
     "iopub.status.idle": "2020-09-12T11:13:23.184166Z",
     "shell.execute_reply": "2020-09-12T11:13:23.183560Z"
    },
    "id": "zN4yVFK5-0Bf"
   },
   "outputs": [
    {
     "name": "stdout",
     "output_type": "stream",
     "text": [
      "Found existing installation: tensorflow 2.3.0\n",
      "Uninstalling tensorflow-2.3.0:\n",
      "  Successfully uninstalled tensorflow-2.3.0\n",
      "\u001b[33mWARNING: You are using pip version 20.2.2; however, version 20.2.3 is available.\n",
      "You should consider upgrading via the '/tmpfs/src/tf_docs_env/bin/python -m pip install --upgrade pip' command.\u001b[0m\n",
      "\u001b[33mWARNING: You are using pip version 20.2.2; however, version 20.2.3 is available.\n",
      "You should consider upgrading via the '/tmpfs/src/tf_docs_env/bin/python -m pip install --upgrade pip' command.\u001b[0m\n"
     ]
    }
   ],
   "source": [
    "# ! pip uninstall -y tensorflow\n",
    "# ! pip install -q tf-nightly\n",
    "# ! pip install -q tensorflow-model-optimization\n"
   ]
  },
  {
   "cell_type": "code",
   "execution_count": 3,
   "metadata": {
    "execution": {
     "iopub.execute_input": "2020-09-12T11:13:23.189158Z",
     "iopub.status.busy": "2020-09-12T11:13:23.188443Z",
     "iopub.status.idle": "2020-09-12T11:13:30.077432Z",
     "shell.execute_reply": "2020-09-12T11:13:30.077997Z"
    },
    "id": "yJwIonXEVJo6"
   },
   "outputs": [],
   "source": [
    "import tempfile\n",
    "import os\n",
    "\n",
    "import tensorflow as tf\n",
    "\n",
    "from tensorflow import keras"
   ]
  },
  {
   "cell_type": "markdown",
   "metadata": {
    "id": "psViY5PRDurp"
   },
   "source": [
    "## Train a model for MNIST without quantization aware training"
   ]
  },
  {
   "cell_type": "code",
   "execution_count": 4,
   "metadata": {
    "execution": {
     "iopub.execute_input": "2020-09-12T11:13:30.085609Z",
     "iopub.status.busy": "2020-09-12T11:13:30.084862Z",
     "iopub.status.idle": "2020-09-12T11:13:38.723898Z",
     "shell.execute_reply": "2020-09-12T11:13:38.724344Z"
    },
    "id": "pbY-KGMPvbW9"
   },
   "outputs": [
    {
     "name": "stdout",
     "output_type": "stream",
     "text": [
      "\n",
      "   1/1688 [..............................] - ETA: 10:46 - loss: 2.2316 - accuracy: 0.218\n",
      "  13/1688 [..............................] - ETA: 7s - loss: 2.2174 - accuracy: 0.1941 \n",
      "  25/1688 [..............................] - ETA: 7s - loss: 2.1248 - accuracy: 0.28\n",
      "  38/1688 [..............................] - ETA: 7s - loss: 2.0209 - accuracy: 0.35\n",
      "  50/1688 [..............................] - ETA: 7s - loss: 1.9267 - accuracy: 0.41\n",
      "  62/1688 [>.............................] - ETA: 6s - loss: 1.8363 - accuracy: 0.45\n",
      "  74/1688 [>.............................] - ETA: 6s - loss: 1.7549 - accuracy: 0.48\n",
      "  87/1688 [>.............................] - ETA: 6s - loss: 1.6750 - accuracy: 0.51\n",
      " 100/1688 [>.............................] - ETA: 6s - loss: 1.6037 - accuracy: 0.54\n",
      " 113/1688 [=>............................] - ETA: 6s - loss: 1.5409 - accuracy: 0.56\n",
      " 125/1688 [=>............................] - ETA: 6s - loss: 1.4892 - accuracy: 0.58\n",
      " 138/1688 [=>............................] - ETA: 6s - loss: 1.4386 - accuracy: 0.59\n",
      " 150/1688 [=>............................] - ETA: 6s - loss: 1.3959 - accuracy: 0.60\n",
      " 162/1688 [=>............................] - ETA: 6s - loss: 1.3567 - accuracy: 0.62\n",
      " 174/1688 [==>...........................] - ETA: 6s - loss: 1.3207 - accuracy: 0.63\n",
      " 187/1688 [==>...........................] - ETA: 6s - loss: 1.2848 - accuracy: 0.64\n",
      " 199/1688 [==>...........................] - ETA: 6s - loss: 1.2540 - accuracy: 0.65\n",
      " 212/1688 [==>...........................] - ETA: 6s - loss: 1.2231 - accuracy: 0.66\n",
      " 225/1688 [==>...........................] - ETA: 6s - loss: 1.1945 - accuracy: 0.66\n",
      " 238/1688 [===>..........................] - ETA: 6s - loss: 1.1680 - accuracy: 0.67\n",
      " 251/1688 [===>..........................] - ETA: 6s - loss: 1.1435 - accuracy: 0.68\n",
      " 264/1688 [===>..........................] - ETA: 5s - loss: 1.1206 - accuracy: 0.68\n",
      " 276/1688 [===>..........................] - ETA: 5s - loss: 1.1009 - accuracy: 0.69\n",
      " 289/1688 [====>.........................] - ETA: 5s - loss: 1.0807 - accuracy: 0.70\n",
      " 301/1688 [====>.........................] - ETA: 5s - loss: 1.0631 - accuracy: 0.70\n",
      " 314/1688 [====>.........................] - ETA: 5s - loss: 1.0451 - accuracy: 0.71\n",
      " 327/1688 [====>.........................] - ETA: 5s - loss: 1.0280 - accuracy: 0.71\n",
      " 340/1688 [=====>........................] - ETA: 5s - loss: 1.0119 - accuracy: 0.71\n",
      " 353/1688 [=====>........................] - ETA: 5s - loss: 0.9967 - accuracy: 0.72\n",
      " 366/1688 [=====>........................] - ETA: 5s - loss: 0.9822 - accuracy: 0.72\n",
      " 378/1688 [=====>........................] - ETA: 5s - loss: 0.9693 - accuracy: 0.73\n",
      " 390/1688 [=====>........................] - ETA: 5s - loss: 0.9571 - accuracy: 0.73\n",
      " 402/1688 [======>.......................] - ETA: 5s - loss: 0.9453 - accuracy: 0.73\n",
      " 415/1688 [======>.......................] - ETA: 5s - loss: 0.9331 - accuracy: 0.74\n",
      " 427/1688 [======>.......................] - ETA: 5s - loss: 0.9223 - accuracy: 0.74\n",
      " 440/1688 [======>.......................] - ETA: 5s - loss: 0.9111 - accuracy: 0.74\n",
      " 453/1688 [=======>......................] - ETA: 5s - loss: 0.9003 - accuracy: 0.74\n",
      " 465/1688 [=======>......................] - ETA: 5s - loss: 0.8907 - accuracy: 0.75\n",
      " 478/1688 [=======>......................] - ETA: 5s - loss: 0.8807 - accuracy: 0.75\n",
      " 491/1688 [=======>......................] - ETA: 4s - loss: 0.8710 - accuracy: 0.75\n",
      " 503/1688 [=======>......................] - ETA: 4s - loss: 0.8624 - accuracy: 0.76\n",
      " 516/1688 [========>.....................] - ETA: 4s - loss: 0.8535 - accuracy: 0.76\n",
      " 529/1688 [========>.....................] - ETA: 4s - loss: 0.8448 - accuracy: 0.76\n",
      " 542/1688 [========>.....................] - ETA: 4s - loss: 0.8364 - accuracy: 0.76\n",
      " 555/1688 [========>.....................] - ETA: 4s - loss: 0.8283 - accuracy: 0.76\n",
      " 568/1688 [=========>....................] - ETA: 4s - loss: 0.8204 - accuracy: 0.77\n",
      " 581/1688 [=========>....................] - ETA: 4s - loss: 0.8128 - accuracy: 0.77\n",
      " 594/1688 [=========>....................] - ETA: 4s - loss: 0.8054 - accuracy: 0.77\n",
      " 607/1688 [=========>....................] - ETA: 4s - loss: 0.7983 - accuracy: 0.77\n",
      " 620/1688 [==========>...................] - ETA: 4s - loss: 0.7913 - accuracy: 0.77\n",
      " 633/1688 [==========>...................] - ETA: 4s - loss: 0.7846 - accuracy: 0.78\n",
      " 646/1688 [==========>...................] - ETA: 4s - loss: 0.7780 - accuracy: 0.78\n",
      " 659/1688 [==========>...................] - ETA: 4s - loss: 0.7716 - accuracy: 0.78\n",
      " 671/1688 [==========>...................] - ETA: 4s - loss: 0.7659 - accuracy: 0.78\n",
      " 683/1688 [===========>..................] - ETA: 4s - loss: 0.7603 - accuracy: 0.78\n",
      " 696/1688 [===========>..................] - ETA: 4s - loss: 0.7544 - accuracy: 0.78\n",
      " 709/1688 [===========>..................] - ETA: 4s - loss: 0.7487 - accuracy: 0.79\n",
      " 721/1688 [===========>..................] - ETA: 4s - loss: 0.7435 - accuracy: 0.79\n",
      " 734/1688 [============>.................] - ETA: 3s - loss: 0.7381 - accuracy: 0.79\n",
      " 747/1688 [============>.................] - ETA: 3s - loss: 0.7328 - accuracy: 0.79\n",
      " 759/1688 [============>.................] - ETA: 3s - loss: 0.7280 - accuracy: 0.79\n",
      " 771/1688 [============>.................] - ETA: 3s - loss: 0.7233 - accuracy: 0.79\n",
      " 784/1688 [============>.................] - ETA: 3s - loss: 0.7183 - accuracy: 0.79\n",
      " 797/1688 [=============>................] - ETA: 3s - loss: 0.7134 - accuracy: 0.80\n",
      " 810/1688 [=============>................] - ETA: 3s - loss: 0.7086 - accuracy: 0.80\n",
      " 822/1688 [=============>................] - ETA: 3s - loss: 0.7043 - accuracy: 0.80\n",
      " 835/1688 [=============>................] - ETA: 3s - loss: 0.6997 - accuracy: 0.80\n",
      " 848/1688 [==============>...............] - ETA: 3s - loss: 0.6952 - accuracy: 0.80\n",
      " 861/1688 [==============>...............] - ETA: 3s - loss: 0.6908 - accuracy: 0.80\n",
      " 874/1688 [==============>...............] - ETA: 3s - loss: 0.6865 - accuracy: 0.80\n",
      " 887/1688 [==============>...............] - ETA: 3s - loss: 0.6822 - accuracy: 0.80\n",
      " 900/1688 [==============>...............] - ETA: 3s - loss: 0.6781 - accuracy: 0.81\n",
      " 913/1688 [===============>..............] - ETA: 3s - loss: 0.6740 - accuracy: 0.81\n",
      " 926/1688 [===============>..............] - ETA: 3s - loss: 0.6700 - accuracy: 0.81\n",
      " 939/1688 [===============>..............] - ETA: 3s - loss: 0.6661 - accuracy: 0.81\n",
      " 951/1688 [===============>..............] - ETA: 3s - loss: 0.6626 - accuracy: 0.81\n",
      " 964/1688 [================>.............] - ETA: 3s - loss: 0.6588 - accuracy: 0.81\n",
      " 977/1688 [================>.............] - ETA: 2s - loss: 0.6550 - accuracy: 0.81\n",
      " 990/1688 [================>.............] - ETA: 2s - loss: 0.6514 - accuracy: 0.81\n",
      "1003/1688 [================>.............] - ETA: 2s - loss: 0.6478 - accuracy: 0.81\n",
      "1015/1688 [=================>............] - ETA: 2s - loss: 0.6445 - accuracy: 0.81\n",
      "1028/1688 [=================>............] - ETA: 2s - loss: 0.6410 - accuracy: 0.82\n",
      "1041/1688 [=================>............] - ETA: 2s - loss: 0.6376 - accuracy: 0.82\n",
      "1054/1688 [=================>............] - ETA: 2s - loss: 0.6342 - accuracy: 0.82\n",
      "1066/1688 [=================>............] - ETA: 2s - loss: 0.6312 - accuracy: 0.82\n",
      "1079/1688 [==================>...........] - ETA: 2s - loss: 0.6279 - accuracy: 0.82\n",
      "1092/1688 [==================>...........] - ETA: 2s - loss: 0.6247 - accuracy: 0.82\n",
      "1105/1688 [==================>...........] - ETA: 2s - loss: 0.6216 - accuracy: 0.82\n",
      "1118/1688 [==================>...........] - ETA: 2s - loss: 0.6185 - accuracy: 0.82\n",
      "1131/1688 [===================>..........] - ETA: 2s - loss: 0.6154 - accuracy: 0.82\n",
      "1144/1688 [===================>..........] - ETA: 2s - loss: 0.6124 - accuracy: 0.82\n",
      "1157/1688 [===================>..........] - ETA: 2s - loss: 0.6095 - accuracy: 0.82\n",
      "1170/1688 [===================>..........] - ETA: 2s - loss: 0.6066 - accuracy: 0.83\n",
      "1183/1688 [====================>.........] - ETA: 2s - loss: 0.6038 - accuracy: 0.83\n",
      "1196/1688 [====================>.........] - ETA: 2s - loss: 0.6009 - accuracy: 0.83\n",
      "1209/1688 [====================>.........] - ETA: 1s - loss: 0.5982 - accuracy: 0.83\n",
      "1222/1688 [====================>.........] - ETA: 1s - loss: 0.5954 - accuracy: 0.83\n",
      "1234/1688 [====================>.........] - ETA: 1s - loss: 0.5930 - accuracy: 0.83\n",
      "1247/1688 [=====================>........] - ETA: 1s - loss: 0.5903 - accuracy: 0.83\n",
      "1260/1688 [=====================>........] - ETA: 1s - loss: 0.5877 - accuracy: 0.83\n",
      "1273/1688 [=====================>........] - ETA: 1s - loss: 0.5851 - accuracy: 0.83\n",
      "1286/1688 [=====================>........] - ETA: 1s - loss: 0.5825 - accuracy: 0.83\n",
      "1298/1688 [======================>.......] - ETA: 1s - loss: 0.5802 - accuracy: 0.83\n",
      "1311/1688 [======================>.......] - ETA: 1s - loss: 0.5777 - accuracy: 0.83\n",
      "1323/1688 [======================>.......] - ETA: 1s - loss: 0.5755 - accuracy: 0.83\n",
      "1336/1688 [======================>.......] - ETA: 1s - loss: 0.5731 - accuracy: 0.83\n",
      "1349/1688 [======================>.......] - ETA: 1s - loss: 0.5707 - accuracy: 0.83\n",
      "1362/1688 [=======================>......] - ETA: 1s - loss: 0.5683 - accuracy: 0.84\n",
      "1375/1688 [=======================>......] - ETA: 1s - loss: 0.5660 - accuracy: 0.84\n",
      "1388/1688 [=======================>......] - ETA: 1s - loss: 0.5637 - accuracy: 0.84\n",
      "1401/1688 [=======================>......] - ETA: 1s - loss: 0.5614 - accuracy: 0.84\n",
      "1414/1688 [========================>.....] - ETA: 1s - loss: 0.5592 - accuracy: 0.84\n",
      "1427/1688 [========================>.....] - ETA: 1s - loss: 0.5570 - accuracy: 0.84\n",
      "1440/1688 [========================>.....] - ETA: 1s - loss: 0.5548 - accuracy: 0.84\n",
      "1453/1688 [========================>.....] - ETA: 0s - loss: 0.5526 - accuracy: 0.84\n",
      "1466/1688 [=========================>....] - ETA: 0s - loss: 0.5505 - accuracy: 0.84\n",
      "1478/1688 [=========================>....] - ETA: 0s - loss: 0.5486 - accuracy: 0.84\n",
      "1490/1688 [=========================>....] - ETA: 0s - loss: 0.5466 - accuracy: 0.84\n",
      "1502/1688 [=========================>....] - ETA: 0s - loss: 0.5447 - accuracy: 0.84\n",
      "1515/1688 [=========================>....] - ETA: 0s - loss: 0.5427 - accuracy: 0.84\n",
      "1528/1688 [==========================>...] - ETA: 0s - loss: 0.5407 - accuracy: 0.84\n",
      "1541/1688 [==========================>...] - ETA: 0s - loss: 0.5387 - accuracy: 0.84\n",
      "1554/1688 [==========================>...] - ETA: 0s - loss: 0.5367 - accuracy: 0.84\n",
      "1566/1688 [==========================>...] - ETA: 0s - loss: 0.5349 - accuracy: 0.84\n",
      "1578/1688 [===========================>..] - ETA: 0s - loss: 0.5331 - accuracy: 0.85\n",
      "1591/1688 [===========================>..] - ETA: 0s - loss: 0.5312 - accuracy: 0.85\n",
      "1604/1688 [===========================>..] - ETA: 0s - loss: 0.5293 - accuracy: 0.85\n",
      "1617/1688 [===========================>..] - ETA: 0s - loss: 0.5275 - accuracy: 0.85\n",
      "1630/1688 [===========================>..] - ETA: 0s - loss: 0.5256 - accuracy: 0.85\n",
      "1643/1688 [============================>.] - ETA: 0s - loss: 0.5238 - accuracy: 0.85\n",
      "1655/1688 [============================>.] - ETA: 0s - loss: 0.5221 - accuracy: 0.85\n",
      "1668/1688 [============================>.] - ETA: 0s - loss: 0.5204 - accuracy: 0.85\n",
      "1681/1688 [============================>.] - ETA: 0s - loss: 0.5186 - accuracy: 0.85\n",
      "1688/1688 [==============================] - 8s 4ms/step - loss: 0.5175 - accuracy: 0.8544 - val_loss: 0.1275 - val_accuracy: 0.9648\n"
     ]
    },
    {
     "data": {
      "text/plain": [
       "<tensorflow.python.keras.callbacks.History at 0x7f37f03b39e8>"
      ]
     },
     "execution_count": 4,
     "metadata": {},
     "output_type": "execute_result"
    }
   ],
   "source": [
    "# Load MNIST dataset\n",
    "mnist = keras.datasets.mnist\n",
    "(train_images, train_labels), (test_images, test_labels) = mnist.load_data()\n",
    "\n",
    "# Normalize the input image so that each pixel value is between 0 to 1.\n",
    "train_images = train_images / 255.0\n",
    "test_images = test_images / 255.0\n",
    "\n",
    "# Define the model architecture.\n",
    "model = keras.Sequential([\n",
    "  keras.layers.InputLayer(input_shape=(28, 28)),\n",
    "  keras.layers.Reshape(target_shape=(28, 28, 1)),\n",
    "  keras.layers.Conv2D(filters=12, kernel_size=(3, 3), activation='relu'),\n",
    "  keras.layers.MaxPooling2D(pool_size=(2, 2)),\n",
    "  keras.layers.Flatten(),\n",
    "  keras.layers.Dense(10)\n",
    "])\n",
    "\n",
    "# Train the digit classification model\n",
    "model.compile(optimizer='adam',\n",
    "              loss=tf.keras.losses.SparseCategoricalCrossentropy(from_logits=True),\n",
    "              metrics=['accuracy'])\n",
    "\n",
    "model.fit(\n",
    "  train_images,\n",
    "  train_labels,\n",
    "  epochs=1,\n",
    "  validation_split=0.1,\n",
    ")"
   ]
  },
  {
   "cell_type": "markdown",
   "metadata": {
    "id": "K8747K9OE72P"
   },
   "source": [
    "## Clone and fine-tune pre-trained model with quantization aware training\n"
   ]
  },
  {
   "cell_type": "markdown",
   "metadata": {
    "id": "F19k7ExXF_h2"
   },
   "source": [
    "### Define the model"
   ]
  },
  {
   "cell_type": "markdown",
   "metadata": {
    "id": "JsZROpNYMWQ0"
   },
   "source": [
    "You will apply quantization aware training to the whole model and see this in the model summary. All layers are now prefixed by \"quant\".\n",
    "\n",
    "Note that the resulting model is quantization aware but not quantized (e.g. the weights are float32 instead of int8). The sections after show how to create a quantized model from the quantization aware one.\n",
    "\n",
    "In the [comprehensive guide](https://www.tensorflow.org/model_optimization/guide/quantization/training_comprehensive_guide.md), you can see how to quantize some layers for model accuracy improvements."
   ]
  },
  {
   "cell_type": "code",
   "execution_count": 5,
   "metadata": {
    "execution": {
     "iopub.execute_input": "2020-09-12T11:13:38.729315Z",
     "iopub.status.busy": "2020-09-12T11:13:38.728674Z",
     "iopub.status.idle": "2020-09-12T11:13:40.191848Z",
     "shell.execute_reply": "2020-09-12T11:13:40.192270Z"
    },
    "id": "oq6blGjgFDCW"
   },
   "outputs": [
    {
     "name": "stdout",
     "output_type": "stream",
     "text": [
      "Model: \"sequential\"\n",
      "_________________________________________________________________\n",
      "Layer (type)                 Output Shape              Param #   \n",
      "=================================================================\n",
      "quantize_layer (QuantizeLaye (None, 28, 28)            3         \n",
      "_________________________________________________________________\n",
      "quant_reshape (QuantizeWrapp (None, 28, 28, 1)         1         \n",
      "_________________________________________________________________\n",
      "quant_conv2d (QuantizeWrappe (None, 26, 26, 12)        147       \n",
      "_________________________________________________________________\n",
      "quant_max_pooling2d (Quantiz (None, 13, 13, 12)        1         \n",
      "_________________________________________________________________\n",
      "quant_flatten (QuantizeWrapp (None, 2028)              1         \n",
      "_________________________________________________________________\n",
      "quant_dense (QuantizeWrapper (None, 10)                20295     \n",
      "=================================================================\n",
      "Total params: 20,448\n",
      "Trainable params: 20,410\n",
      "Non-trainable params: 38\n",
      "_________________________________________________________________\n"
     ]
    }
   ],
   "source": [
    "import tensorflow_model_optimization as tfmot\n",
    "\n",
    "quantize_model = tfmot.quantization.keras.quantize_model\n",
    "\n",
    "# q_aware stands for for quantization aware.\n",
    "q_aware_model = quantize_model(model)\n",
    "\n",
    "# `quantize_model` requires a recompile.\n",
    "q_aware_model.compile(optimizer='adam',\n",
    "              loss=tf.keras.losses.SparseCategoricalCrossentropy(from_logits=True),\n",
    "              metrics=['accuracy'])\n",
    "\n",
    "q_aware_model.summary()"
   ]
  },
  {
   "cell_type": "markdown",
   "metadata": {
    "id": "uDr2ijwpGCI-"
   },
   "source": [
    "### Train and evaluate the model against baseline"
   ]
  },
  {
   "cell_type": "markdown",
   "metadata": {
    "id": "XUBEn94hXYB1"
   },
   "source": [
    "To demonstrate fine tuning after training the model for just an epoch, fine tune with quantization aware training on a subset of the training data."
   ]
  },
  {
   "cell_type": "code",
   "execution_count": 6,
   "metadata": {
    "execution": {
     "iopub.execute_input": "2020-09-12T11:13:40.197720Z",
     "iopub.status.busy": "2020-09-12T11:13:40.197034Z",
     "iopub.status.idle": "2020-09-12T11:13:40.938811Z",
     "shell.execute_reply": "2020-09-12T11:13:40.939194Z"
    },
    "id": "_PHDGJryE31X"
   },
   "outputs": [
    {
     "name": "stdout",
     "output_type": "stream",
     "text": [
      "\n",
      "1/2 [==============>...............] - ETA: 0s - loss: 0.1139 - accuracy: 0.95\n",
      "2/2 [==============================] - 1s 167ms/step - loss: 0.1298 - accuracy: 0.9571 - val_loss: 0.1671 - val_accuracy: 0.9600\n"
     ]
    },
    {
     "data": {
      "text/plain": [
       "<tensorflow.python.keras.callbacks.History at 0x7f376c6db7b8>"
      ]
     },
     "execution_count": 6,
     "metadata": {},
     "output_type": "execute_result"
    }
   ],
   "source": [
    "train_images_subset = train_images[0:1000] # out of 60000\n",
    "train_labels_subset = train_labels[0:1000]\n",
    "\n",
    "q_aware_model.fit(train_images_subset, train_labels_subset,\n",
    "                  batch_size=500, epochs=1, validation_split=0.1)"
   ]
  },
  {
   "cell_type": "markdown",
   "metadata": {
    "id": "-byC2lYlMkfN"
   },
   "source": [
    "For this example, there is minimal to no loss in test accuracy after quantization aware training, compared to the baseline."
   ]
  },
  {
   "cell_type": "code",
   "execution_count": 7,
   "metadata": {
    "execution": {
     "iopub.execute_input": "2020-09-12T11:13:40.944142Z",
     "iopub.status.busy": "2020-09-12T11:13:40.943546Z",
     "iopub.status.idle": "2020-09-12T11:13:42.104104Z",
     "shell.execute_reply": "2020-09-12T11:13:42.104515Z"
    },
    "id": "6bMFTKSSHyyZ"
   },
   "outputs": [
    {
     "name": "stdout",
     "output_type": "stream",
     "text": [
      "Baseline test accuracy: 0.9609000086784363\n",
      "Quant test accuracy: 0.9628999829292297\n"
     ]
    }
   ],
   "source": [
    "_, baseline_model_accuracy = model.evaluate(\n",
    "    test_images, test_labels, verbose=0)\n",
    "\n",
    "_, q_aware_model_accuracy = q_aware_model.evaluate(\n",
    "   test_images, test_labels, verbose=0)\n",
    "\n",
    "print('Baseline test accuracy:', baseline_model_accuracy)\n",
    "print('Quant test accuracy:', q_aware_model_accuracy)"
   ]
  },
  {
   "cell_type": "markdown",
   "metadata": {
    "id": "2IepmUPSITn6"
   },
   "source": [
    "## Create quantized model for TFLite backend"
   ]
  },
  {
   "cell_type": "markdown",
   "metadata": {
    "id": "1FgNP4rbOLH8"
   },
   "source": [
    "After this, you have an actually quantized model with int8 weights and uint8 activations."
   ]
  },
  {
   "cell_type": "code",
   "execution_count": 8,
   "metadata": {
    "execution": {
     "iopub.execute_input": "2020-09-12T11:13:42.111077Z",
     "iopub.status.busy": "2020-09-12T11:13:42.110438Z",
     "iopub.status.idle": "2020-09-12T11:13:43.728444Z",
     "shell.execute_reply": "2020-09-12T11:13:43.727865Z"
    },
    "id": "w7fztWsAOHTz"
   },
   "outputs": [
    {
     "name": "stdout",
     "output_type": "stream",
     "text": [
      "WARNING:tensorflow:From /tmpfs/src/tf_docs_env/lib/python3.6/site-packages/tensorflow/python/training/tracking/tracking.py:109: Model.state_updates (from tensorflow.python.keras.engine.training) is deprecated and will be removed in a future version.\n",
      "Instructions for updating:\n",
      "This property should not be used in TensorFlow 2.0, as updates are applied automatically.\n",
      "WARNING:tensorflow:From /tmpfs/src/tf_docs_env/lib/python3.6/site-packages/tensorflow/python/training/tracking/tracking.py:109: Layer.updates (from tensorflow.python.keras.engine.base_layer) is deprecated and will be removed in a future version.\n",
      "Instructions for updating:\n",
      "This property should not be used in TensorFlow 2.0, as updates are applied automatically.\n",
      "INFO:tensorflow:Assets written to: /tmp/tmpoct8ii0p/assets\n"
     ]
    }
   ],
   "source": [
    "converter = tf.lite.TFLiteConverter.from_keras_model(q_aware_model)\n",
    "converter.optimizations = [tf.lite.Optimize.DEFAULT]\n",
    "\n",
    "quantized_tflite_model = converter.convert()"
   ]
  },
  {
   "cell_type": "markdown",
   "metadata": {
    "id": "BEYsyYVqNgeY"
   },
   "source": [
    "## See persistence of accuracy from TF to TFLite"
   ]
  },
  {
   "cell_type": "markdown",
   "metadata": {
    "id": "saadXD4JQsBK"
   },
   "source": [
    "Define a helper function to evaluate the TF Lite model on the test dataset."
   ]
  },
  {
   "cell_type": "code",
   "execution_count": 9,
   "metadata": {
    "execution": {
     "iopub.execute_input": "2020-09-12T11:13:43.737938Z",
     "iopub.status.busy": "2020-09-12T11:13:43.737258Z",
     "iopub.status.idle": "2020-09-12T11:13:43.738944Z",
     "shell.execute_reply": "2020-09-12T11:13:43.739320Z"
    },
    "id": "b8yBouuGNqls"
   },
   "outputs": [],
   "source": [
    "import numpy as np\n",
    "\n",
    "def evaluate_model(interpreter):\n",
    "  input_index = interpreter.get_input_details()[0][\"index\"]\n",
    "  output_index = interpreter.get_output_details()[0][\"index\"]\n",
    "\n",
    "  # Run predictions on every image in the \"test\" dataset.\n",
    "  prediction_digits = []\n",
    "  for i, test_image in enumerate(test_images):\n",
    "    if i % 1000 == 0:\n",
    "      print('Evaluated on {n} results so far.'.format(n=i))\n",
    "    # Pre-processing: add batch dimension and convert to float32 to match with\n",
    "    # the model's input data format.\n",
    "    test_image = np.expand_dims(test_image, axis=0).astype(np.float32)\n",
    "    interpreter.set_tensor(input_index, test_image)\n",
    "\n",
    "    # Run inference.\n",
    "    interpreter.invoke()\n",
    "\n",
    "    # Post-processing: remove batch dimension and find the digit with highest\n",
    "    # probability.\n",
    "    output = interpreter.tensor(output_index)\n",
    "    digit = np.argmax(output()[0])\n",
    "    prediction_digits.append(digit)\n",
    "\n",
    "  print('\\n')\n",
    "  # Compare prediction results with ground truth labels to calculate accuracy.\n",
    "  prediction_digits = np.array(prediction_digits)\n",
    "  accuracy = (prediction_digits == test_labels).mean()\n",
    "  return accuracy"
   ]
  },
  {
   "cell_type": "markdown",
   "metadata": {
    "id": "TuEFS4CIQvUw"
   },
   "source": [
    "You evaluate the quantized model and see that the accuracy from TensorFlow persists to the TFLite backend."
   ]
  },
  {
   "cell_type": "code",
   "execution_count": 10,
   "metadata": {
    "execution": {
     "iopub.execute_input": "2020-09-12T11:13:43.743998Z",
     "iopub.status.busy": "2020-09-12T11:13:43.743384Z",
     "iopub.status.idle": "2020-09-12T11:13:47.596242Z",
     "shell.execute_reply": "2020-09-12T11:13:47.595653Z"
    },
    "id": "VqQTyqz4NsWd"
   },
   "outputs": [
    {
     "name": "stdout",
     "output_type": "stream",
     "text": [
      "Evaluated on 0 results so far.\n",
      "Evaluated on 1000 results so far.\n",
      "Evaluated on 2000 results so far.\n",
      "Evaluated on 3000 results so far.\n",
      "Evaluated on 4000 results so far.\n",
      "Evaluated on 5000 results so far.\n",
      "Evaluated on 6000 results so far.\n",
      "Evaluated on 7000 results so far.\n",
      "Evaluated on 8000 results so far.\n",
      "Evaluated on 9000 results so far.\n",
      "\n",
      "\n",
      "Quant TFLite test_accuracy: 0.963\n",
      "Quant TF test accuracy: 0.9628999829292297\n"
     ]
    }
   ],
   "source": [
    "interpreter = tf.lite.Interpreter(model_content=quantized_tflite_model)\n",
    "interpreter.allocate_tensors()\n",
    "\n",
    "test_accuracy = evaluate_model(interpreter)\n",
    "\n",
    "print('Quant TFLite test_accuracy:', test_accuracy)\n",
    "print('Quant TF test accuracy:', q_aware_model_accuracy)"
   ]
  },
  {
   "cell_type": "markdown",
   "metadata": {
    "id": "z8D7WnFF5DZR"
   },
   "source": [
    "## See 4x smaller model from quantization"
   ]
  },
  {
   "cell_type": "markdown",
   "metadata": {
    "id": "I1c2IecBRCdQ"
   },
   "source": [
    "You create a float TFLite model and then see that the quantized TFLite model\n",
    "is 4x smaller."
   ]
  },
  {
   "cell_type": "code",
   "execution_count": 11,
   "metadata": {
    "execution": {
     "iopub.execute_input": "2020-09-12T11:13:47.603575Z",
     "iopub.status.busy": "2020-09-12T11:13:47.602885Z",
     "iopub.status.idle": "2020-09-12T11:13:48.243685Z",
     "shell.execute_reply": "2020-09-12T11:13:48.243157Z"
    },
    "id": "jy_Lgfh8VkyX"
   },
   "outputs": [
    {
     "name": "stdout",
     "output_type": "stream",
     "text": [
      "INFO:tensorflow:Assets written to: /tmp/tmpy0445k6u/assets\n"
     ]
    },
    {
     "name": "stderr",
     "output_type": "stream",
     "text": [
      "INFO:tensorflow:Assets written to: /tmp/tmpy0445k6u/assets\n"
     ]
    },
    {
     "name": "stdout",
     "output_type": "stream",
     "text": [
      "Float model in Mb: 0.08053970336914062\n",
      "Quantized model in Mb: 0.02339935302734375\n"
     ]
    }
   ],
   "source": [
    "# Create float TFLite model.\n",
    "float_converter = tf.lite.TFLiteConverter.from_keras_model(model)\n",
    "float_tflite_model = float_converter.convert()\n",
    "\n",
    "# Measure sizes of models.\n",
    "_, float_file = tempfile.mkstemp('.tflite')\n",
    "_, quant_file = tempfile.mkstemp('.tflite')\n",
    "\n",
    "with open(quant_file, 'wb') as f:\n",
    "  f.write(quantized_tflite_model)\n",
    "\n",
    "with open(float_file, 'wb') as f:\n",
    "  f.write(float_tflite_model)\n",
    "\n",
    "print(\"Float model in Mb:\", os.path.getsize(float_file) / float(2**20))\n",
    "print(\"Quantized model in Mb:\", os.path.getsize(quant_file) / float(2**20))"
   ]
  },
  {
   "cell_type": "markdown",
   "metadata": {
    "id": "0O5xuci-SonI"
   },
   "source": [
    "## Conclusion"
   ]
  },
  {
   "cell_type": "markdown",
   "metadata": {
    "id": "O2I7xmyMW5QY"
   },
   "source": [
    "In this tutorial, you saw how to create quantization aware models with the TensorFlow Model Optimization Toolkit API and then quantized models for the TFLite backend.\n",
    "\n",
    "You saw a 4x model size compression benefit for a model for MNIST, with minimal accuracy\n",
    "difference. To see the latency benefits on mobile, try out the TFLite examples [in the TFLite app repository](https://www.tensorflow.org/lite/models).\n",
    "\n",
    "We encourage you to try this new capability, which can be particularly important for deployment in resource-constrained environments. \n"
   ]
  }
 ],
 "metadata": {
  "accelerator": "GPU",
  "colab": {
   "collapsed_sections": [],
   "name": "training_example.ipynb",
   "toc_visible": true
  },
  "kernelspec": {
   "display_name": "Python 3",
   "language": "python",
   "name": "python3"
  },
  "language_info": {
   "codemirror_mode": {
    "name": "ipython",
    "version": 3
   },
   "file_extension": ".py",
   "mimetype": "text/x-python",
   "name": "python",
   "nbconvert_exporter": "python",
   "pygments_lexer": "ipython3",
   "version": "3.8.10"
  }
 },
 "nbformat": 4,
 "nbformat_minor": 4
}
